{
  "nbformat": 4,
  "nbformat_minor": 0,
  "metadata": {
    "colab": {
      "name": "Untitled11.ipynb",
      "provenance": [],
      "authorship_tag": "ABX9TyOnddO/ApMs1cejFZOPuluY",
      "include_colab_link": true
    },
    "kernelspec": {
      "name": "python3",
      "display_name": "Python 3"
    }
  },
  "cells": [
    {
      "cell_type": "markdown",
      "metadata": {
        "id": "view-in-github",
        "colab_type": "text"
      },
      "source": [
        "<a href=\"https://colab.research.google.com/github/caiobss/atividade-de-lpc/blob/master/Untitled11.ipynb\" target=\"_parent\"><img src=\"https://colab.research.google.com/assets/colab-badge.svg\" alt=\"Open In Colab\"/></a>"
      ]
    },
    {
      "cell_type": "code",
      "metadata": {
        "id": "LlXUosTQ9ALq"
      },
      "source": [
        "# atividade-de-lpc\r\n",
        "#1. Faça um Programa que mostre a mensagem \"Olá mundo\" na tela.\r\n",
        "\r\n",
        "#print('olá mundo!')\r\n",
        "\r\n",
        "\r\n",
        "#2. Faça um Programa que peça um número e então mostre a mensagem O número informado foi [número].\r\n",
        "#print('escreva um número. ')\r\n",
        "#número=input('numero ')\r\n",
        "#print('O número que você colocou foi:',número )\r\n",
        "\r\n",
        "#3. Faça um Programa que peça dois números e imprima a soma.\r\n",
        "#n1=float(input('Escreva uma número: '))\r\n",
        "#n2=float(input('Escreva outro número: '))\r\n",
        "#print(n1+n2)\r\n",
        "\r\n",
        " #4. Faça um Programa que peça as 4 notas bimestrais e mostre a média. \r\n",
        "#n1=float(input('Digite sua nota do primeiro bimestre: '))\r\n",
        "#n2=float(input('Digite sua nota do segundo bimestre: '))\r\n",
        "#n3=float(input('Digite sua nota do terceiro bimestre: '))\r\n",
        "#n4=float(input('Digite sua nota do quarto bimestre: '))\r\n",
        "#print('Sua nota é igual a: ',n1/4+n2/4+n3/4+n4/4)\r\n",
        "\r\n",
        "#5. Faça um Programa que converta metros para centímetros.\r\n",
        "#metro = float(input('Digite uma medida em metros: '))\r\n",
        "#cent = metro * 100\r\n",
        "#print(f'{metro} metros convertido para centímetros é igual a {cent} centímetros.')\r\n",
        "\r\n",
        "\r\n",
        "#6. Faça um Programa que peça o raio de um círculo, calcule e mostre sua área. \r\n",
        "#r1=float(input('Escreva o raio do seu objeto circular: '))\r\n",
        "#print('A área do seu objeto é igual a: ',3.14*r1**2)\r\n",
        "\r\n",
        "#7. Faça um Programa que calcule a área de um quadrado, em seguida mostre o dobro desta área para o usuário.\r\n",
        "#a1=float(input('Escreva a base do seu quadrado: '))\r\n",
        "#a2=float(input('Escreva a altura do seu quadrado: '))\r\n",
        "#print('A área do seu quadrado é igual a: ', a1*a2)\r\n",
        "#print('O dobro da área é igual a: ',a1*a2*2)\r\n",
        "\r\n",
        "#8. Faça um Programa que pergunte quanto você ganha por hora e o número de horas trabalhadas no mês. Calcule e mostre o total do seu salário no referido mês. \r\n",
        "#valor_recebido_por_hora = float(input('Digite o quanto você recebe por hora: '))\r\n",
        "#horas_trabalhadas = int(input('Quantas horas você trabalha diariamente? '))\r\n",
        "#salario = (valor_recebido_por_hora * horas_trabalhadas) * 23\r\n",
        "#print(f'O seu salário é igual a R${salario}')\r\n",
        "\r\n",
        "\r\n",
        "#9. Faça um Programa que peça um valor e mostre na tela se o valor é positivo ou negativo.\r\n",
        "#n1=int(input('Escreva um valor: '))\r\n",
        "#if (n1 >= 0):\r\n",
        "#  print('O número é positivo!')\r\n",
        "#else:\r\n",
        "#  print('O número é negativo!')\r\n",
        "\r\n",
        "\r\n",
        "#10. Faça um Programa que verifique se uma letra digitada é \"F\" ou \"M\". Conforme a letra escrever: F - Feminino, M - Masculino, Sexo Inválido. \r\n",
        "#nome = input('Digite seu nome: ')\r\n",
        "#sexo = input('Digite seu sexo : ')\r\n",
        "#if sexo == 'm':\r\n",
        "#    print(f'{nome} é do sexo Masculino')\r\n",
        "#elif sexo == 'f':\r\n",
        "#    print(f'{nome} é do sexo Feminino')\r\n",
        "#else:\r\n",
        "#    print('Sexo Inválido.')\r\n",
        "\r\n",
        "#11. Faça um Programa que verifique se uma letra digitada é vogal ou consoante. \r\n",
        "#letra = input('Digite uma letra: ')\r\n",
        "#if letra in 'aeiou':\r\n",
        "#    print(f'{letra} é uma vogal.')\r\n",
        "#else:\r\n",
        "#    print(f'{letra} é uma consoante.')"
      ],
      "execution_count": null,
      "outputs": []
    }
  ]
}