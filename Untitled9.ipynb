{
  "nbformat": 4,
  "nbformat_minor": 0,
  "metadata": {
    "colab": {
      "name": "Untitled9.ipynb",
      "provenance": [],
      "authorship_tag": "ABX9TyPEvTw1CZbVwIZZV4lEMXrx",
      "include_colab_link": true
    },
    "kernelspec": {
      "name": "python3",
      "display_name": "Python 3"
    }
  },
  "cells": [
    {
      "cell_type": "markdown",
      "metadata": {
        "id": "view-in-github",
        "colab_type": "text"
      },
      "source": [
        "<a href=\"https://colab.research.google.com/github/caiobss/atividade-de-lpc/blob/master/Untitled9.ipynb\" target=\"_parent\"><img src=\"https://colab.research.google.com/assets/colab-badge.svg\" alt=\"Open In Colab\"/></a>"
      ]
    },
    {
      "cell_type": "code",
      "metadata": {
        "id": "77oF_pvkmPgF",
        "colab_type": "code",
        "colab": {
          "base_uri": "https://localhost:8080/",
          "height": 237
        },
        "outputId": "6a252652-bab3-47b2-889a-9b9ce1d05e26"
      },
      "source": [
        "#1) \n",
        "print('Caio Bezerra de Souza Silva')\n",
        "\n",
        "#2)\n",
        "def contagem (n):\n",
        "  if n==0:\n",
        "    print('decolar')\n",
        "  else:\n",
        "    print(n)\n",
        "    contagem(n-1)\n",
        "contagem(n=10)\n"
      ],
      "execution_count": 1,
      "outputs": [
        {
          "output_type": "stream",
          "text": [
            "Caio Bezerra de Souza Silva\n",
            "10\n",
            "9\n",
            "8\n",
            "7\n",
            "6\n",
            "5\n",
            "4\n",
            "3\n",
            "2\n",
            "1\n",
            "decolar\n"
          ],
          "name": "stdout"
        }
      ]
    }
  ]
}